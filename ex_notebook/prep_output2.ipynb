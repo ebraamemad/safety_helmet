{
 "cells": [
  {
   "cell_type": "code",
   "execution_count": 1,
   "id": "fb156c68",
   "metadata": {
    "execution": {
     "iopub.execute_input": "2025-06-21T15:29:44.258718Z",
     "iopub.status.busy": "2025-06-21T15:29:44.258718Z",
     "iopub.status.idle": "2025-06-21T15:29:44.290306Z",
     "shell.execute_reply": "2025-06-21T15:29:44.290306Z"
    },
    "papermill": {
     "duration": 0.052009,
     "end_time": "2025-06-21T15:29:44.290306",
     "exception": false,
     "start_time": "2025-06-21T15:29:44.238297",
     "status": "completed"
    },
    "tags": []
   },
   "outputs": [
    {
     "name": "stdout",
     "output_type": "stream",
     "text": [
      "jnsjfj\n"
     ]
    }
   ],
   "source": [
    "print(\"jnsjfj\")"
   ]
  },
  {
   "cell_type": "code",
   "execution_count": 2,
   "id": "a617d2b3",
   "metadata": {
    "execution": {
     "iopub.execute_input": "2025-06-21T15:29:44.320669Z",
     "iopub.status.busy": "2025-06-21T15:29:44.320669Z",
     "iopub.status.idle": "2025-06-21T15:29:44.369960Z",
     "shell.execute_reply": "2025-06-21T15:29:44.369960Z"
    },
    "papermill": {
     "duration": 0.063629,
     "end_time": "2025-06-21T15:29:44.369960",
     "exception": false,
     "start_time": "2025-06-21T15:29:44.306331",
     "status": "completed"
    },
    "tags": []
   },
   "outputs": [],
   "source": [
    "import yaml"
   ]
  },
  {
   "cell_type": "code",
   "execution_count": 3,
   "id": "e1ae7e96",
   "metadata": {
    "execution": {
     "iopub.execute_input": "2025-06-21T15:29:44.372966Z",
     "iopub.status.busy": "2025-06-21T15:29:44.372966Z",
     "iopub.status.idle": "2025-06-21T15:29:44.385268Z",
     "shell.execute_reply": "2025-06-21T15:29:44.385268Z"
    },
    "papermill": {
     "duration": 0.012302,
     "end_time": "2025-06-21T15:29:44.385268",
     "exception": false,
     "start_time": "2025-06-21T15:29:44.372966",
     "status": "completed"
    },
    "tags": []
   },
   "outputs": [
    {
     "name": "stderr",
     "output_type": "stream",
     "text": [
      "<>:1: SyntaxWarning: invalid escape sequence '\\p'\n",
      "<>:1: SyntaxWarning: invalid escape sequence '\\p'\n",
      "C:\\Users\\H\\AppData\\Local\\Temp\\ipykernel_15460\\3867219633.py:1: SyntaxWarning: invalid escape sequence '\\p'\n",
      "  with open(\"E:\\projects of camp\\safety-helmet\\data\\data.yaml\") as f:\n"
     ]
    }
   ],
   "source": [
    "with open(\"E:\\projects of camp\\safety-helmet\\data\\data.yaml\") as f:\n",
    "    data= yaml.safe_load(f)\n",
    "    "
   ]
  },
  {
   "cell_type": "code",
   "execution_count": 4,
   "id": "41d903d5",
   "metadata": {
    "execution": {
     "iopub.execute_input": "2025-06-21T15:29:44.385268Z",
     "iopub.status.busy": "2025-06-21T15:29:44.385268Z",
     "iopub.status.idle": "2025-06-21T15:29:44.399872Z",
     "shell.execute_reply": "2025-06-21T15:29:44.399872Z"
    },
    "papermill": {
     "duration": 0.014604,
     "end_time": "2025-06-21T15:29:44.399872",
     "exception": false,
     "start_time": "2025-06-21T15:29:44.385268",
     "status": "completed"
    },
    "tags": []
   },
   "outputs": [
    {
     "data": {
      "text/plain": [
       "{'train': '../train/images',\n",
       " 'val': '../valid/images',\n",
       " 'test': '../test/images',\n",
       " 'nc': 2,\n",
       " 'names': ['helm', 'no-helm'],\n",
       " 'roboflow': {'workspace': 'ebraam',\n",
       "  'project': 'safety-helmet-q3b8o-zlt8i',\n",
       "  'version': 1,\n",
       "  'license': 'CC BY 4.0',\n",
       "  'url': 'https://universe.roboflow.com/ebraam/safety-helmet-q3b8o-zlt8i/dataset/1'}}"
      ]
     },
     "execution_count": 4,
     "metadata": {},
     "output_type": "execute_result"
    }
   ],
   "source": [
    "data"
   ]
  },
  {
   "cell_type": "code",
   "execution_count": 5,
   "id": "b4a7909e",
   "metadata": {
    "execution": {
     "iopub.execute_input": "2025-06-21T15:29:44.399872Z",
     "iopub.status.busy": "2025-06-21T15:29:44.399872Z",
     "iopub.status.idle": "2025-06-21T15:29:44.412011Z",
     "shell.execute_reply": "2025-06-21T15:29:44.412011Z"
    },
    "papermill": {
     "duration": 0.012139,
     "end_time": "2025-06-21T15:29:44.412011",
     "exception": false,
     "start_time": "2025-06-21T15:29:44.399872",
     "status": "completed"
    },
    "tags": []
   },
   "outputs": [
    {
     "data": {
      "text/plain": [
       "2"
      ]
     },
     "execution_count": 5,
     "metadata": {},
     "output_type": "execute_result"
    }
   ],
   "source": [
    "data[\"nc\"]"
   ]
  },
  {
   "cell_type": "code",
   "execution_count": null,
   "id": "d5a31233",
   "metadata": {
    "papermill": {
     "duration": 0.0,
     "end_time": "2025-06-21T15:29:44.412011",
     "exception": false,
     "start_time": "2025-06-21T15:29:44.412011",
     "status": "completed"
    },
    "tags": []
   },
   "outputs": [],
   "source": []
  },
  {
   "cell_type": "code",
   "execution_count": null,
   "id": "50f8162c",
   "metadata": {
    "papermill": {
     "duration": 0.0,
     "end_time": "2025-06-21T15:29:44.420217",
     "exception": false,
     "start_time": "2025-06-21T15:29:44.420217",
     "status": "completed"
    },
    "tags": []
   },
   "outputs": [],
   "source": []
  },
  {
   "cell_type": "code",
   "execution_count": null,
   "id": "c71e00ec",
   "metadata": {
    "papermill": {
     "duration": 0.008198,
     "end_time": "2025-06-21T15:29:44.428415",
     "exception": false,
     "start_time": "2025-06-21T15:29:44.420217",
     "status": "completed"
    },
    "tags": []
   },
   "outputs": [],
   "source": []
  },
  {
   "cell_type": "code",
   "execution_count": null,
   "id": "a19cae6e",
   "metadata": {
    "papermill": {
     "duration": 9.6e-05,
     "end_time": "2025-06-21T15:29:44.436567",
     "exception": false,
     "start_time": "2025-06-21T15:29:44.436471",
     "status": "completed"
    },
    "tags": []
   },
   "outputs": [],
   "source": []
  },
  {
   "cell_type": "code",
   "execution_count": null,
   "id": "73984394",
   "metadata": {
    "papermill": {
     "duration": 0.0,
     "end_time": "2025-06-21T15:29:44.436567",
     "exception": false,
     "start_time": "2025-06-21T15:29:44.436567",
     "status": "completed"
    },
    "tags": []
   },
   "outputs": [],
   "source": []
  }
 ],
 "metadata": {
  "kernelspec": {
   "display_name": "yolov11",
   "language": "python",
   "name": "python3"
  },
  "language_info": {
   "codemirror_mode": {
    "name": "ipython",
    "version": 3
   },
   "file_extension": ".py",
   "mimetype": "text/x-python",
   "name": "python",
   "nbconvert_exporter": "python",
   "pygments_lexer": "ipython3",
   "version": "3.12.9"
  },
  "papermill": {
   "default_parameters": {},
   "duration": 2.47625,
   "end_time": "2025-06-21T15:29:44.696321",
   "environment_variables": {},
   "exception": null,
   "input_path": "prep.ipynb",
   "output_path": "..\\ex_notebook\\prep_output2.ipynb",
   "parameters": {},
   "start_time": "2025-06-21T15:29:42.220071",
   "version": "2.6.0"
  }
 },
 "nbformat": 4,
 "nbformat_minor": 5
}