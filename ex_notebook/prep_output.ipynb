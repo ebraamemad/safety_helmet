{
 "cells": [
  {
   "cell_type": "code",
   "execution_count": 1,
   "id": "fb156c68",
   "metadata": {
    "execution": {
     "iopub.execute_input": "2025-06-21T15:24:23.124751Z",
     "iopub.status.busy": "2025-06-21T15:24:23.124751Z",
     "iopub.status.idle": "2025-06-21T15:24:23.151639Z",
     "shell.execute_reply": "2025-06-21T15:24:23.151639Z"
    },
    "papermill": {
     "duration": 0.05006,
     "end_time": "2025-06-21T15:24:23.159681",
     "exception": false,
     "start_time": "2025-06-21T15:24:23.109621",
     "status": "completed"
    },
    "tags": []
   },
   "outputs": [
    {
     "name": "stdout",
     "output_type": "stream",
     "text": [
      "jnsjfj\n"
     ]
    }
   ],
   "source": [
    "print(\"jnsjfj\")"
   ]
  },
  {
   "cell_type": "code",
   "execution_count": 2,
   "id": "a617d2b3",
   "metadata": {
    "execution": {
     "iopub.execute_input": "2025-06-21T15:24:23.299396Z",
     "iopub.status.busy": "2025-06-21T15:24:23.299396Z",
     "iopub.status.idle": "2025-06-21T15:24:23.404403Z",
     "shell.execute_reply": "2025-06-21T15:24:23.404403Z"
    },
    "papermill": {
     "duration": 0.137669,
     "end_time": "2025-06-21T15:24:23.404403",
     "exception": false,
     "start_time": "2025-06-21T15:24:23.266734",
     "status": "completed"
    },
    "tags": []
   },
   "outputs": [],
   "source": [
    "import yaml"
   ]
  },
  {
   "cell_type": "code",
   "execution_count": 3,
   "id": "e1ae7e96",
   "metadata": {
    "execution": {
     "iopub.execute_input": "2025-06-21T15:24:23.421101Z",
     "iopub.status.busy": "2025-06-21T15:24:23.421101Z",
     "iopub.status.idle": "2025-06-21T15:24:23.439901Z",
     "shell.execute_reply": "2025-06-21T15:24:23.439901Z"
    },
    "papermill": {
     "duration": 0.037848,
     "end_time": "2025-06-21T15:24:23.450757",
     "exception": false,
     "start_time": "2025-06-21T15:24:23.412909",
     "status": "completed"
    },
    "tags": []
   },
   "outputs": [
    {
     "name": "stderr",
     "output_type": "stream",
     "text": [
      "<>:1: SyntaxWarning: invalid escape sequence '\\p'\n",
      "<>:1: SyntaxWarning: invalid escape sequence '\\p'\n",
      "C:\\Users\\H\\AppData\\Local\\Temp\\ipykernel_15452\\3867219633.py:1: SyntaxWarning: invalid escape sequence '\\p'\n",
      "  with open(\"E:\\projects of camp\\safety-helmet\\data\\data.yaml\") as f:\n"
     ]
    }
   ],
   "source": [
    "with open(\"E:\\projects of camp\\safety-helmet\\data\\data.yaml\") as f:\n",
    "    data= yaml.safe_load(f)\n",
    "    "
   ]
  },
  {
   "cell_type": "code",
   "execution_count": 4,
   "id": "41d903d5",
   "metadata": {
    "execution": {
     "iopub.execute_input": "2025-06-21T15:24:23.475035Z",
     "iopub.status.busy": "2025-06-21T15:24:23.475035Z",
     "iopub.status.idle": "2025-06-21T15:24:23.495097Z",
     "shell.execute_reply": "2025-06-21T15:24:23.495097Z"
    },
    "papermill": {
     "duration": 0.028054,
     "end_time": "2025-06-21T15:24:23.495097",
     "exception": false,
     "start_time": "2025-06-21T15:24:23.467043",
     "status": "completed"
    },
    "tags": []
   },
   "outputs": [
    {
     "data": {
      "text/plain": [
       "{'train': '../train/images',\n",
       " 'val': '../valid/images',\n",
       " 'test': '../test/images',\n",
       " 'nc': 2,\n",
       " 'names': ['helm', 'no-helm'],\n",
       " 'roboflow': {'workspace': 'ebraam',\n",
       "  'project': 'safety-helmet-q3b8o-zlt8i',\n",
       "  'version': 1,\n",
       "  'license': 'CC BY 4.0',\n",
       "  'url': 'https://universe.roboflow.com/ebraam/safety-helmet-q3b8o-zlt8i/dataset/1'}}"
      ]
     },
     "execution_count": 4,
     "metadata": {},
     "output_type": "execute_result"
    }
   ],
   "source": [
    "data"
   ]
  },
  {
   "cell_type": "code",
   "execution_count": 5,
   "id": "b4a7909e",
   "metadata": {
    "execution": {
     "iopub.execute_input": "2025-06-21T15:24:23.511625Z",
     "iopub.status.busy": "2025-06-21T15:24:23.511625Z",
     "iopub.status.idle": "2025-06-21T15:24:23.523344Z",
     "shell.execute_reply": "2025-06-21T15:24:23.523344Z"
    },
    "papermill": {
     "duration": 0.019729,
     "end_time": "2025-06-21T15:24:23.523344",
     "exception": false,
     "start_time": "2025-06-21T15:24:23.503615",
     "status": "completed"
    },
    "tags": []
   },
   "outputs": [
    {
     "data": {
      "text/plain": [
       "2"
      ]
     },
     "execution_count": 5,
     "metadata": {},
     "output_type": "execute_result"
    }
   ],
   "source": [
    "data[\"nc\"]"
   ]
  },
  {
   "cell_type": "code",
   "execution_count": null,
   "id": "d5a31233",
   "metadata": {
    "papermill": {
     "duration": 0.008613,
     "end_time": "2025-06-21T15:24:23.540419",
     "exception": false,
     "start_time": "2025-06-21T15:24:23.531806",
     "status": "completed"
    },
    "tags": []
   },
   "outputs": [],
   "source": []
  },
  {
   "cell_type": "code",
   "execution_count": null,
   "id": "50f8162c",
   "metadata": {
    "papermill": {
     "duration": 0.016808,
     "end_time": "2025-06-21T15:24:23.565742",
     "exception": false,
     "start_time": "2025-06-21T15:24:23.548934",
     "status": "completed"
    },
    "tags": []
   },
   "outputs": [],
   "source": []
  },
  {
   "cell_type": "code",
   "execution_count": null,
   "id": "c68a0c00",
   "metadata": {
    "papermill": {
     "duration": 0.008017,
     "end_time": "2025-06-21T15:24:23.581753",
     "exception": false,
     "start_time": "2025-06-21T15:24:23.573736",
     "status": "completed"
    },
    "tags": []
   },
   "outputs": [],
   "source": []
  },
  {
   "cell_type": "code",
   "execution_count": null,
   "id": "a19cae6e",
   "metadata": {
    "papermill": {
     "duration": 0.015995,
     "end_time": "2025-06-21T15:24:23.597748",
     "exception": false,
     "start_time": "2025-06-21T15:24:23.581753",
     "status": "completed"
    },
    "tags": []
   },
   "outputs": [],
   "source": []
  },
  {
   "cell_type": "code",
   "execution_count": null,
   "id": "d78fdb91",
   "metadata": {
    "papermill": {
     "duration": 0.008001,
     "end_time": "2025-06-21T15:24:23.605749",
     "exception": false,
     "start_time": "2025-06-21T15:24:23.597748",
     "status": "completed"
    },
    "tags": []
   },
   "outputs": [],
   "source": []
  }
 ],
 "metadata": {
  "kernelspec": {
   "display_name": "yolov11",
   "language": "python",
   "name": "python3"
  },
  "language_info": {
   "codemirror_mode": {
    "name": "ipython",
    "version": 3
   },
   "file_extension": ".py",
   "mimetype": "text/x-python",
   "name": "python",
   "nbconvert_exporter": "python",
   "pygments_lexer": "ipython3",
   "version": "3.12.9"
  },
  "papermill": {
   "default_parameters": {},
   "duration": 13.767527,
   "end_time": "2025-06-21T15:24:23.967029",
   "environment_variables": {},
   "exception": null,
   "input_path": "prep.ipynb",
   "output_path": "..\\ex_notebook\\prep_output.ipynb",
   "parameters": {},
   "start_time": "2025-06-21T15:24:10.199502",
   "version": "2.6.0"
  }
 },
 "nbformat": 4,
 "nbformat_minor": 5
}