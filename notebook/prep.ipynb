{
 "cells": [
  {
   "cell_type": "code",
   "execution_count": 1,
   "id": "a617d2b3",
   "metadata": {},
   "outputs": [],
   "source": [
    "import yaml"
   ]
  },
  {
   "cell_type": "code",
   "execution_count": 2,
   "id": "e1ae7e96",
   "metadata": {},
   "outputs": [
    {
     "name": "stderr",
     "output_type": "stream",
     "text": [
      "<>:1: SyntaxWarning: invalid escape sequence '\\p'\n",
      "<>:1: SyntaxWarning: invalid escape sequence '\\p'\n",
      "C:\\Users\\H\\AppData\\Local\\Temp\\ipykernel_14300\\3867219633.py:1: SyntaxWarning: invalid escape sequence '\\p'\n",
      "  with open(\"E:\\projects of camp\\safety-helmet\\data\\data.yaml\") as f:\n"
     ]
    }
   ],
   "source": [
    "with open(\"E:\\projects of camp\\safety-helmet\\data\\data.yaml\") as f:\n",
    "    data= yaml.safe_load(f)\n",
    "    "
   ]
  },
  {
   "cell_type": "code",
   "execution_count": 3,
   "id": "41d903d5",
   "metadata": {},
   "outputs": [
    {
     "data": {
      "text/plain": [
       "{'train': '../train/images',\n",
       " 'val': '../valid/images',\n",
       " 'test': '../test/images',\n",
       " 'nc': 2,\n",
       " 'names': ['helm', 'no-helm'],\n",
       " 'roboflow': {'workspace': 'ebraam',\n",
       "  'project': 'safety-helmet-q3b8o-zlt8i',\n",
       "  'version': 1,\n",
       "  'license': 'CC BY 4.0',\n",
       "  'url': 'https://universe.roboflow.com/ebraam/safety-helmet-q3b8o-zlt8i/dataset/1'}}"
      ]
     },
     "execution_count": 3,
     "metadata": {},
     "output_type": "execute_result"
    }
   ],
   "source": [
    "data"
   ]
  },
  {
   "cell_type": "code",
   "execution_count": 4,
   "id": "b4a7909e",
   "metadata": {},
   "outputs": [
    {
     "data": {
      "text/plain": [
       "2"
      ]
     },
     "execution_count": 4,
     "metadata": {},
     "output_type": "execute_result"
    }
   ],
   "source": [
    "data[\"nc\"]"
   ]
  },
  {
   "cell_type": "code",
   "execution_count": null,
   "id": "d5a31233",
   "metadata": {},
   "outputs": [],
   "source": []
  },
  {
   "cell_type": "code",
   "execution_count": null,
   "id": "50f8162c",
   "metadata": {},
   "outputs": [],
   "source": []
  },
  {
   "cell_type": "code",
   "execution_count": null,
   "metadata": {},
   "outputs": [],
   "source": []
  },
  {
   "cell_type": "code",
   "execution_count": null,
   "id": "a19cae6e",
   "metadata": {},
   "outputs": [],
   "source": []
  },
  {
   "cell_type": "code",
   "execution_count": null,
   "metadata": {},
   "outputs": [],
   "source": []
  }
 ],
 "metadata": {
  "kernelspec": {
   "display_name": "yolov11",
   "language": "python",
   "name": "python3"
  },
  "language_info": {
   "codemirror_mode": {
    "name": "ipython",
    "version": 3
   },
   "file_extension": ".py",
   "mimetype": "text/x-python",
   "name": "python",
   "nbconvert_exporter": "python",
   "pygments_lexer": "ipython3",
   "version": "3.12.9"
  }
 },
 "nbformat": 4,
 "nbformat_minor": 5
}
